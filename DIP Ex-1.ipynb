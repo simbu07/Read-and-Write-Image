{
 "cells": [
  {
   "cell_type": "code",
   "execution_count": null,
   "id": "cb93f45d-b0c1-4650-8d27-6582d0e17a7f",
   "metadata": {},
   "outputs": [],
   "source": [
    "import cv2\n",
    "pic=cv2.imread(\"img1.png\",1)\n",
    "cv2.imshow(\"212221240005\",pic)\n",
    "cv2.waitKey(0)\n",
    "cv2.destroyAllWindows()"
   ]
  },
  {
   "cell_type": "code",
   "execution_count": null,
   "id": "4baa42f4-3db9-4f2b-9727-6696983281cf",
   "metadata": {},
   "outputs": [],
   "source": [
    "import cv2\n",
    "pic=cv2.imread(\"img1.png\",1)\n",
    "cv2.imshow(\"212221230101\",pic)\n",
    "cv2.waitKey(0)\n",
    "cv2.destroyAllWindows()"
   ]
  },
  {
   "cell_type": "code",
   "execution_count": 2,
   "id": "ca507c66-0363-4060-acdf-5b9a37371537",
   "metadata": {},
   "outputs": [
    {
     "name": "stdout",
     "output_type": "stream",
     "text": [
      "(627, 991, 3)\n"
     ]
    }
   ],
   "source": [
    "import cv2\n",
    "pic = cv2.imread('img1.png',1)\n",
    "print(pic.shape)"
   ]
  },
  {
   "cell_type": "code",
   "execution_count": null,
   "id": "160d701b-c160-4296-97e8-d858b7d02748",
   "metadata": {},
   "outputs": [],
   "source": [
    "import random\n",
    "import cv2\n",
    "pic=cv2.imread(\"img1.png\",1)\n",
    "for i in range(100):\n",
    "    for j in range(pic.shape[1]):\n",
    "        pic[i][j]=[random.randint(0,255),random.randint(0,255),random.randint(0,255)]\n",
    "cv2.imshow(\"212221230101\",pic)\n",
    "cv2.waitKey(0)\n",
    "cv2.destroyAllWindows()"
   ]
  },
  {
   "cell_type": "code",
   "execution_count": null,
   "id": "3d007d6a-ff47-4c35-8be0-6c94d49dec65",
   "metadata": {},
   "outputs": [],
   "source": [
    "import cv2\n",
    "pic=cv2.imread(\"img1.png\",1)\n",
    "crop=pic[300:400,300:400]\n",
    "pic[50:150,50:150]=crop\n",
    "cv2.imshow(\"212221230101\",pic)\n",
    "cv2.waitKey(0)\n",
    "cv2.destroyAllWindows()"
   ]
  },
  {
   "cell_type": "code",
   "execution_count": null,
   "id": "bc809bb4-f92f-4a3d-a9b3-6b865511d2ca",
   "metadata": {},
   "outputs": [],
   "source": []
  }
 ],
 "metadata": {
  "kernelspec": {
   "display_name": "Python 3 (ipykernel)",
   "language": "python",
   "name": "python3"
  },
  "language_info": {
   "codemirror_mode": {
    "name": "ipython",
    "version": 3
   },
   "file_extension": ".py",
   "mimetype": "text/x-python",
   "name": "python",
   "nbconvert_exporter": "python",
   "pygments_lexer": "ipython3",
   "version": "3.9.16"
  }
 },
 "nbformat": 4,
 "nbformat_minor": 5
}
